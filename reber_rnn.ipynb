{
 "cells": [
  {
   "cell_type": "code",
   "execution_count": 1,
   "id": "4751b328",
   "metadata": {},
   "outputs": [
    {
     "name": "stderr",
     "output_type": "stream",
     "text": [
      "2025-09-16 17:27:32.117679: I tensorflow/core/util/port.cc:153] oneDNN custom operations are on. You may see slightly different numerical results due to floating-point round-off errors from different computation orders. To turn them off, set the environment variable `TF_ENABLE_ONEDNN_OPTS=0`.\n",
      "2025-09-16 17:27:32.667645: I tensorflow/core/platform/cpu_feature_guard.cc:210] This TensorFlow binary is optimized to use available CPU instructions in performance-critical operations.\n",
      "To enable the following instructions: AVX2 AVX_VNNI FMA, in other operations, rebuild TensorFlow with the appropriate compiler flags.\n",
      "2025-09-16 17:27:34.735512: I tensorflow/core/util/port.cc:153] oneDNN custom operations are on. You may see slightly different numerical results due to floating-point round-off errors from different computation orders. To turn them off, set the environment variable `TF_ENABLE_ONEDNN_OPTS=0`.\n"
     ]
    },
    {
     "name": "stdout",
     "output_type": "stream",
     "text": [
      "[PhysicalDevice(name='/physical_device:CPU:0', device_type='CPU'), PhysicalDevice(name='/physical_device:GPU:0', device_type='GPU')]\n"
     ]
    }
   ],
   "source": [
    "import numpy as np\n",
    "import tensorflow as tf\n",
    "import keras\n",
    "\n",
    "for g in tf.config.list_physical_devices(\"GPU\"):\n",
    "    tf.config.experimental.set_memory_growth(g, True)\n",
    "\n",
    "print(tf.config.list_physical_devices())\n",
    "\n",
    "np.random.seed(42)\n",
    "tf.random.set_seed(42)"
   ]
  },
  {
   "cell_type": "markdown",
   "id": "bbb03b86",
   "metadata": {},
   "source": [
    "## Data Preparation"
   ]
  },
  {
   "cell_type": "code",
   "execution_count": 10,
   "id": "987f6ea0",
   "metadata": {},
   "outputs": [],
   "source": [
    "nodes = [\n",
    "    {\"current_node\" : 0, \"next_node\" : [(1, \"T\"), (2, \"P\")]},\n",
    "    {\"current_node\" : 1, \"next_node\" : [(1, \"S\"), (4, \"X\")]},\n",
    "    {\"current_node\" : 2, \"next_node\" : [(2, \"T\"), (3, \"V\")]},\n",
    "    {\"current_node\" : 3, \"next_node\" : [(4, \"P\"), (5, \"V\")]},\n",
    "    {\"current_node\" : 4, \"next_node\" : [(2, \"X\"), (5, \"S\")]},\n",
    "    {\"current_node\" : 5, \"next_node\" : [(6, \"E\"), (6, \"E\")]}\n",
    "]"
   ]
  },
  {
   "cell_type": "code",
   "execution_count": 11,
   "id": "ffb2627c",
   "metadata": {},
   "outputs": [
    {
     "data": {
      "text/html": [
       "<div>\n",
       "<style scoped>\n",
       "    .dataframe tbody tr th:only-of-type {\n",
       "        vertical-align: middle;\n",
       "    }\n",
       "\n",
       "    .dataframe tbody tr th {\n",
       "        vertical-align: top;\n",
       "    }\n",
       "\n",
       "    .dataframe thead th {\n",
       "        text-align: right;\n",
       "    }\n",
       "</style>\n",
       "<table border=\"1\" class=\"dataframe\">\n",
       "  <thead>\n",
       "    <tr style=\"text-align: right;\">\n",
       "      <th></th>\n",
       "      <th>current_node</th>\n",
       "      <th>next_node</th>\n",
       "    </tr>\n",
       "  </thead>\n",
       "  <tbody>\n",
       "    <tr>\n",
       "      <th>0</th>\n",
       "      <td>0</td>\n",
       "      <td>[(1, T), (2, P)]</td>\n",
       "    </tr>\n",
       "    <tr>\n",
       "      <th>1</th>\n",
       "      <td>1</td>\n",
       "      <td>[(1, S), (4, X)]</td>\n",
       "    </tr>\n",
       "    <tr>\n",
       "      <th>2</th>\n",
       "      <td>2</td>\n",
       "      <td>[(2, T), (3, V)]</td>\n",
       "    </tr>\n",
       "    <tr>\n",
       "      <th>3</th>\n",
       "      <td>3</td>\n",
       "      <td>[(4, P), (5, V)]</td>\n",
       "    </tr>\n",
       "    <tr>\n",
       "      <th>4</th>\n",
       "      <td>4</td>\n",
       "      <td>[(2, X), (5, S)]</td>\n",
       "    </tr>\n",
       "    <tr>\n",
       "      <th>5</th>\n",
       "      <td>5</td>\n",
       "      <td>[(6, E), (6, E)]</td>\n",
       "    </tr>\n",
       "  </tbody>\n",
       "</table>\n",
       "</div>"
      ],
      "text/plain": [
       "   current_node         next_node\n",
       "0             0  [(1, T), (2, P)]\n",
       "1             1  [(1, S), (4, X)]\n",
       "2             2  [(2, T), (3, V)]\n",
       "3             3  [(4, P), (5, V)]\n",
       "4             4  [(2, X), (5, S)]\n",
       "5             5  [(6, E), (6, E)]"
      ]
     },
     "execution_count": 11,
     "metadata": {},
     "output_type": "execute_result"
    }
   ],
   "source": [
    "import pandas as pd\n",
    "\n",
    "df = pd.DataFrame(nodes)\n",
    "df # to visualize the graph of nodes"
   ]
  },
  {
   "cell_type": "code",
   "execution_count": 80,
   "id": "7e730456",
   "metadata": {},
   "outputs": [],
   "source": [
    "def pick_path(randomized_node=False):\n",
    "    path_or_node = np.random.randint(0, 2) if randomized_node == False else np.random.randint(0, 6)\n",
    "    return path_or_node\n",
    "\n",
    "\n",
    "def generate_reber_string(nodes, is_reber=True, is_generator=False, **kwargs):\n",
    "    \"\"\"This method creates one instance of reber string, returns a string or\n",
    "    yields a tuple (reber, is_reber)\"\"\"\n",
    "    def create_reber_string(nodes, is_reber):\n",
    "        node = 0\n",
    "        reber = \"B\"\n",
    "        \n",
    "        if is_reber:\n",
    "            while node < 6:\n",
    "                selected_path = pick_path()\n",
    "                reber += nodes[node][\"next_node\"][selected_path][1] # adding new char\n",
    "                node = nodes[node][\"next_node\"][selected_path][0] \n",
    "        else:\n",
    "            try:            \n",
    "                mistake_count = 0\n",
    "                max_char_count = 0\n",
    "                while (node < 6 or mistake_count == 0) and max_char_count <= 16:\n",
    "                    selected_path = pick_path()\n",
    "                    reber += nodes[node][\"next_node\"][selected_path][1] # adding new char\n",
    "                    node = nodes[node][\"next_node\"][selected_path][0]\n",
    "                    if node != 6:\n",
    "                        random_node = pick_path(True)\n",
    "                        mistake_count += 1 if random_node != node else 0\n",
    "                    else:\n",
    "                        node = pick_path(True)\n",
    "                    max_char_count += 1\n",
    "            except IndexError:\n",
    "                print(f\"IndexError : {node}, {reber}, {mistake_count}\")\n",
    "        \n",
    "        return reber\n",
    "    \n",
    "    if not is_generator:\n",
    "        return create_reber_string(nodes, is_reber)\n",
    "    else:\n",
    "        dataset_size = kwargs.get(\"dataset_size\", 10000)\n",
    "        if is_reber == \"random\":\n",
    "            is_reber = (bool(pick_path()) for i in range(dataset_size))\n",
    "        return ((create_reber_string(nodes, is_reber), is_reber) for _ in range(dataset_size))"
   ]
  },
  {
   "cell_type": "code",
   "execution_count": 81,
   "id": "021e78bb",
   "metadata": {},
   "outputs": [
    {
     "name": "stdout",
     "output_type": "stream",
     "text": [
      "BTXSE\n",
      "BTXXVPSE\n",
      "BTXSE\n",
      "BTSSXXVPSE\n",
      "BPVPXTTTTVVE\n"
     ]
    }
   ],
   "source": [
    "for i in range(5):\n",
    "    print(generate_reber_string(nodes))"
   ]
  },
  {
   "cell_type": "code",
   "execution_count": 82,
   "id": "5583c374",
   "metadata": {},
   "outputs": [
    {
     "name": "stdout",
     "output_type": "stream",
     "text": [
      "BTSXXTVPSE True\n",
      "BTXXTTVVE True\n",
      "BTXSE True\n",
      "BTXXVPSE True\n",
      "BPVPSEPXTTVPSEVPSE False\n",
      "BTSSSXSE True\n",
      "BPVVE True\n",
      "BPTVPXVVEPVVEEETVP False\n",
      "BTSSXSEEPVVEPTVVES False\n",
      "BPVVEXTTTTTVVEXXTV False\n"
     ]
    }
   ],
   "source": [
    "for i in range(10):\n",
    "    is_reber = bool(pick_path())\n",
    "    print(generate_reber_string(nodes, is_reber), is_reber)"
   ]
  },
  {
   "cell_type": "code",
   "execution_count": 140,
   "id": "3a8cb6d1",
   "metadata": {},
   "outputs": [],
   "source": [
    "dataset = tf.data.Dataset.from_generator(\n",
    "    lambda: generate_reber_string(nodes, \"random\", True, dataset_size=20000),\n",
    "    output_signature=(\n",
    "        tf.TensorSpec(shape=(), dtype=tf.string),\n",
    "        tf.TensorSpec(shape=(), dtype=tf.bool)\n",
    "    )\n",
    ").shuffle(10000)"
   ]
  }
 ],
 "metadata": {
  "kernelspec": {
   "display_name": "homl2wsl (Py3.11)",
   "language": "python",
   "name": "homl2wsl"
  },
  "language_info": {
   "codemirror_mode": {
    "name": "ipython",
    "version": 3
   },
   "file_extension": ".py",
   "mimetype": "text/x-python",
   "name": "python",
   "nbconvert_exporter": "python",
   "pygments_lexer": "ipython3",
   "version": "3.11.13"
  }
 },
 "nbformat": 4,
 "nbformat_minor": 5
}
